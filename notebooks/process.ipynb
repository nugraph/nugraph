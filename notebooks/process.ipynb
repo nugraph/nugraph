{
 "cells": [
  {
   "cell_type": "markdown",
   "id": "032d4d70-fc8c-4dc7-8e74-6ca925c528a6",
   "metadata": {},
   "source": [
    "### Set autoreloading\n",
    "This extension will automatically update with any changes to packages in real time"
   ]
  },
  {
   "cell_type": "code",
   "execution_count": 1,
   "id": "66cb4d62-a186-4a7c-a73d-d000ed2282d8",
   "metadata": {},
   "outputs": [],
   "source": [
    "%load_ext autoreload\n",
    "%autoreload 2"
   ]
  },
  {
   "cell_type": "markdown",
   "id": "92ba31c1-82de-4a5a-85f2-5a42681fe130",
   "metadata": {},
   "source": [
    "### Import packages\n",
    "We'll need the `pynuml` and `nugraph` packages"
   ]
  },
  {
   "cell_type": "code",
   "execution_count": 2,
   "id": "1fde7189-f0de-46bc-b49c-c6a00c65938a",
   "metadata": {},
   "outputs": [],
   "source": [
    "import os\n",
    "import sys\n",
    "sys.path.append(f\"{os.environ['HOME']}/nugraph/pynuml\")\n",
    "sys.path.append(f\"{os.environ['HOME']}/nugraph/nugraph\")\n",
    "os.environ[\"NUGRAPH_DIR\"] = f\"{os.environ['HOME']}/nugraph\"\n",
    "os.environ[\"NUGRAPH_LOG\"] = f\"{os.environ['HOME']}/logs\"\n",
    "os.environ[\"NUGRAPH_DATA\"] = f\"{os.environ['HOME']}/data\"\n",
    "import pynuml\n",
    "import nugraph as ng"
   ]
  },
  {
   "cell_type": "markdown",
   "id": "c347b111-3671-4d5c-ad32-1e458b56875a",
   "metadata": {},
   "source": [
    "### Open HDF5 event file\n",
    "\n",
    "This file contains the low-level tables we need to process into graph objects"
   ]
  },
  {
   "cell_type": "code",
   "execution_count": 3,
   "id": "484ed079-07dd-41e2-a869-963363bcecaa",
   "metadata": {},
   "outputs": [],
   "source": [
    "#file = pynuml.io.File(\"/exp/dune/data/users/hrazafin/iceberg/test_run9h5/NeutrinoML_test134.h5\")\n",
    "file = pynuml.io.File(\"/exp/dune/data/users/hrazafin/iceberg/run9_hdf5/run9_signal_extra_Sep2125/key_extra_run9_signal.h5\")\n",
    "#file = pynuml.io.File(\"/exp/dune/data/users/hrazafin/iceberg/run9_hdf5/h5_sg_bck/h5_merged_sg_gb.h5\")"
   ]
  },
  {
   "cell_type": "code",
   "execution_count": 4,
   "id": "1ac99b52-e104-4fbd-89af-822ff6f33ecb",
   "metadata": {},
   "outputs": [
    {
     "name": "stdout",
     "output_type": "stream",
     "text": [
      "Total unique event IDs in hit_table: 78947\n",
      "Total events: 119240\n",
      "Example event IDs: [[      3       1 1604011]\n",
      " [      3       1 1604061]\n",
      " [      3       1 1604083]\n",
      " [      3       1 1604097]\n",
      " [      3       1 1604098]\n",
      " [      3       1 1604119]\n",
      " [      3       1 1604122]\n",
      " [      3       1 1604139]\n",
      " [      3       1 1604320]\n",
      " [      3       1 1604333]]\n"
     ]
    }
   ],
   "source": [
    "\n",
    "import h5py\n",
    "import numpy as np\n",
    "\n",
    "#file_path = \"/exp/dune/data/users/hrazafin/iceberg/run9_hdf5/run9_signal_extra_Sep2125/key_extra_run9_signal.h5\"\n",
    "#307673 ; events = 463758\n",
    "\n",
    "#file_path = \"/exp/dune/data/users/hrazafin/iceberg/run9_hdf5/run9_signal_extra_Sep2125/full_signal_run9.h5\"\n",
    "#hit_table : 385134 ; events : 582998\n",
    "\n",
    "file_path = \"/exp/dune/data/users/hrazafin/iceberg/run9_hdf5/run9_signal_extra_Sep2125/run9_old_signal_iceberg.h5\"\n",
    "\n",
    "with h5py.File(file_path, \"r\") as f:\n",
    "    hit_table = f[\"hit_table\"]\n",
    "    # Load only the 'event_id' field (may be named differently — check with list(hit_table.dtype.names))\n",
    "    event_ids = hit_table[\"event_id\"]\n",
    "    unique_event_ids = np.unique(event_ids)\n",
    "    print(f\"Total unique event IDs in hit_table: {len(unique_event_ids)}\")\n",
    "\n",
    "    event_ids = f['event_table/event_id']\n",
    "    print(\"Total events:\", len(event_ids))\n",
    "\n",
    "    print(\"Example event IDs:\", event_ids[:10])"
   ]
  },
  {
   "cell_type": "markdown",
   "id": "5a7725e2-075d-4456-9b29-4770973ed464",
   "metadata": {},
   "source": [
    "### Create hit graph producer\n",
    "\n",
    "Create a class that can read input information and use it to generate graphs"
   ]
  },
  {
   "cell_type": "code",
   "execution_count": 5,
   "id": "ea934f2d-3078-42d6-ad01-fcfba0b9e5cd",
   "metadata": {},
   "outputs": [],
   "source": [
    "semantic_labeller = pynuml.labels.StandardLabels()\n",
    "#event_labeller = pynuml.labels.FlavorLabels()\n",
    "event_labeller = pynuml.labels.StoppingMuon()\n",
    "#signal_bkg = pynuml.labels.StoppingMuon()\n",
    "processor = pynuml.process.HitGraphProducer(\n",
    "        file=file,\n",
    "        semantic_labeller=semantic_labeller,\n",
    "        event_labeller = event_labeller, # default None\n",
    "        label_vertex=False,\n",
    "        label_position=True, # True is to activate 3D, default false\n",
    "        planes=['u','v','y'],\n",
    "        node_feats = ['integral','rms','tpc'],\n",
    "        lower_bound = 20,\n",
    "        store_detailed_truth = False\n",
    "        #signal_bkg = signal_bkg\n",
    ")"
   ]
  },
  {
   "cell_type": "markdown",
   "id": "013cab3f-52cd-4928-8d09-20244cffdc2e",
   "metadata": {},
   "source": [
    "## Configure plotting utility\n",
    "Instantiate the **pynuml** utility for plotting graph objects, which will allow us to visualise the graphs we create"
   ]
  },
  {
   "cell_type": "code",
   "execution_count": 6,
   "id": "6922ae60-58dc-4dd7-af76-4959f8ff7e4e",
   "metadata": {},
   "outputs": [],
   "source": [
    "plot = pynuml.plot.GraphPlot(\n",
    "    planes=('u', 'v', 'y'),\n",
    "    classes=semantic_labeller.labels[:-1])"
   ]
  },
  {
   "cell_type": "markdown",
   "id": "794baf81-eaea-4882-8ea1-e16bdc749dc1",
   "metadata": {},
   "source": [
    "### Load a buffer of input graphs\n",
    "\n",
    "For interactive testing, we can use `read_data` to load the first 100 events in the event file using the following syntax, which will return a list of events that we can use to initialise an iterator"
   ]
  },
  {
   "cell_type": "code",
   "execution_count": 7,
   "id": "85640f53-f3f6-4d37-acb9-07e9e661788d",
   "metadata": {},
   "outputs": [],
   "source": [
    "file.read_data(0, 100)\n",
    "#file.read_data_all()\n",
    "evts = iter(file.build_evt())"
   ]
  },
  {
   "cell_type": "code",
   "execution_count": 8,
   "id": "9dcc12ba-35d6-494a-aa8f-e38c43590972",
   "metadata": {},
   "outputs": [
    {
     "name": "stdout",
     "output_type": "stream",
     "text": [
      "Events yielded by build_evt(): 64\n"
     ]
    }
   ],
   "source": [
    "levts = list(file.build_evt())\n",
    "print(\"Events yielded by build_evt():\", len(levts))"
   ]
  },
  {
   "cell_type": "markdown",
   "id": "ede7692f-48c1-40e3-ba32-6fa2f446849e",
   "metadata": {},
   "source": [
    "### Retrieve the next event\n",
    "\n",
    "This block retrieves an event from the buffer. Since we defined `evts` as an iterator over our 100 events, the following block can be executed multiple times, and each time it's executed, it will step to the next event in the buffer. After fetching an event, we pass it into the processor to create a graph. Not all events produce good graphs, so if the next event does not return a valid graph, the code will continue to fetch events until it finds the next event that produces a valid graph."
   ]
  },
  {
   "cell_type": "code",
   "execution_count": 16,
   "id": "614736ab-6384-4d46-8014-c6749348f84b",
   "metadata": {},
   "outputs": [
    {
     "name": "stdout",
     "output_type": "stream",
     "text": [
      "STOPPING MUON filter\n",
      "✅ ***** Signal ***** ✅\n",
      "primary -13\n",
      "primary.end_position_x =  16.128517150878906\n",
      "primary.end_position_y =  10.40115737915039\n",
      "primary.end_position_z =  78.85472106933594\n",
      "skipped 1 events that did not produce valid graphs.\n"
     ]
    }
   ],
   "source": [
    "name, data = processor(next(evts))\n",
    "skip = 0\n",
    "while data is None:\n",
    "    name, data = processor(next(evts))\n",
    "    skip += 1\n",
    "if skip > 0:\n",
    "    print(f'skipped {skip} events that did not produce valid graphs.')"
   ]
  },
  {
   "cell_type": "markdown",
   "id": "058b117a-7026-4849-b51f-a92ead4e2f9c",
   "metadata": {},
   "source": [
    "### Visualise graph\n",
    "\n",
    "We can use the plotting utility to take a closer look at the graph we just produced."
   ]
  },
  {
   "cell_type": "code",
   "execution_count": null,
   "id": "cee00d21-f725-4d78-b397-5c9f750d307d",
   "metadata": {},
   "outputs": [],
   "source": [
    "fig = plot.plot(data, target='instance', how='true', filter='show')\n",
    "fig"
   ]
  },
  {
   "cell_type": "code",
   "execution_count": 15,
   "id": "971e5ed1-3e1a-4ce4-a4ae-3a69dc7aeb38",
   "metadata": {},
   "outputs": [
    {
     "ename": "TypeError",
     "evalue": "'NoneType' object is not subscriptable",
     "output_type": "error",
     "traceback": [
      "\u001b[0;31m---------------------------------------------------------------------------\u001b[0m",
      "\u001b[0;31mTypeError\u001b[0m                                 Traceback (most recent call last)",
      "Cell \u001b[0;32mIn[15], line 1\u001b[0m\n\u001b[0;32m----> 1\u001b[0m fig \u001b[38;5;241m=\u001b[39m \u001b[43mplot\u001b[49m\u001b[38;5;241;43m.\u001b[39;49m\u001b[43mplot\u001b[49m\u001b[43m(\u001b[49m\u001b[43mdata\u001b[49m\u001b[43m,\u001b[49m\u001b[43m \u001b[49m\u001b[43mtarget\u001b[49m\u001b[38;5;241;43m=\u001b[39;49m\u001b[38;5;124;43m'\u001b[39;49m\u001b[38;5;124;43msemantic\u001b[39;49m\u001b[38;5;124;43m'\u001b[39;49m\u001b[43m,\u001b[49m\u001b[43m \u001b[49m\u001b[43mhow\u001b[49m\u001b[38;5;241;43m=\u001b[39;49m\u001b[38;5;124;43m'\u001b[39;49m\u001b[38;5;124;43mtrue\u001b[39;49m\u001b[38;5;124;43m'\u001b[39;49m\u001b[43m)\u001b[49m\n\u001b[1;32m      2\u001b[0m fig\n",
      "File \u001b[0;32m/exp/dune/data/users/hrazafin/iceberg/nugraph/pynuml/pynuml/plot/graph.py:87\u001b[0m, in \u001b[0;36mGraphPlot.plot\u001b[0;34m(self, data, target, how, filter, xyz, width, height, title)\u001b[0m\n\u001b[1;32m     77\u001b[0m \u001b[38;5;28;01mdef\u001b[39;00m\u001b[38;5;250m \u001b[39m\u001b[38;5;21mplot\u001b[39m(\u001b[38;5;28mself\u001b[39m,\n\u001b[1;32m     78\u001b[0m          data: HeteroData,\n\u001b[1;32m     79\u001b[0m          target: \u001b[38;5;28mstr\u001b[39m \u001b[38;5;241m=\u001b[39m \u001b[38;5;124m'\u001b[39m\u001b[38;5;124mhits\u001b[39m\u001b[38;5;124m'\u001b[39m,\n\u001b[0;32m   (...)\u001b[0m\n\u001b[1;32m     84\u001b[0m          height: \u001b[38;5;28mint\u001b[39m \u001b[38;5;241m=\u001b[39m \u001b[38;5;28;01mNone\u001b[39;00m,\n\u001b[1;32m     85\u001b[0m          title: \u001b[38;5;28mbool\u001b[39m \u001b[38;5;241m=\u001b[39m \u001b[38;5;28;01mTrue\u001b[39;00m) \u001b[38;5;241m-\u001b[39m\u001b[38;5;241m>\u001b[39m FigureWidget:\n\u001b[0;32m---> 87\u001b[0m     df \u001b[38;5;241m=\u001b[39m \u001b[38;5;28;43mself\u001b[39;49m\u001b[38;5;241;43m.\u001b[39;49m\u001b[43mto_dataframe\u001b[49m\u001b[43m(\u001b[49m\u001b[43mdata\u001b[49m\u001b[43m)\u001b[49m\n\u001b[1;32m     89\u001b[0m     \u001b[38;5;66;03m# no colour\u001b[39;00m\n\u001b[1;32m     90\u001b[0m     \u001b[38;5;28;01mif\u001b[39;00m target \u001b[38;5;241m==\u001b[39m \u001b[38;5;124m'\u001b[39m\u001b[38;5;124mhits\u001b[39m\u001b[38;5;124m'\u001b[39m:\n",
      "File \u001b[0;32m/exp/dune/data/users/hrazafin/iceberg/nugraph/pynuml/pynuml/plot/graph.py:35\u001b[0m, in \u001b[0;36mGraphPlot.to_dataframe\u001b[0;34m(self, data)\u001b[0m\n\u001b[1;32m     32\u001b[0m \u001b[38;5;28;01mif\u001b[39;00m \u001b[38;5;28misinstance\u001b[39m(data, Batch):\n\u001b[1;32m     33\u001b[0m     \u001b[38;5;28;01mraise\u001b[39;00m \u001b[38;5;167;01mRuntimeError\u001b[39;00m(\u001b[38;5;124m'\u001b[39m\u001b[38;5;124mto_dataframe does not support batches!\u001b[39m\u001b[38;5;124m'\u001b[39m)\n\u001b[0;32m---> 35\u001b[0m hit \u001b[38;5;241m=\u001b[39m \u001b[43mdata\u001b[49m\u001b[43m[\u001b[49m\u001b[38;5;124;43m\"\u001b[39;49m\u001b[38;5;124;43mhit\u001b[39;49m\u001b[38;5;124;43m\"\u001b[39;49m\u001b[43m]\u001b[49m\u001b[38;5;241m.\u001b[39mto_dict()\n\u001b[1;32m     36\u001b[0m df \u001b[38;5;241m=\u001b[39m pd\u001b[38;5;241m.\u001b[39mDataFrame(hit[\u001b[38;5;124m\"\u001b[39m\u001b[38;5;124mid\u001b[39m\u001b[38;5;124m\"\u001b[39m], columns\u001b[38;5;241m=\u001b[39m[\u001b[38;5;124m\"\u001b[39m\u001b[38;5;124mid\u001b[39m\u001b[38;5;124m\"\u001b[39m])\n\u001b[1;32m     37\u001b[0m df[\u001b[38;5;124m\"\u001b[39m\u001b[38;5;124mplane\u001b[39m\u001b[38;5;124m\"\u001b[39m] \u001b[38;5;241m=\u001b[39m [\u001b[38;5;28mself\u001b[39m\u001b[38;5;241m.\u001b[39m_planes[i] \u001b[38;5;28;01mfor\u001b[39;00m i \u001b[38;5;129;01min\u001b[39;00m hit[\u001b[38;5;124m\"\u001b[39m\u001b[38;5;124mplane\u001b[39m\u001b[38;5;124m\"\u001b[39m]]\n",
      "\u001b[0;31mTypeError\u001b[0m: 'NoneType' object is not subscriptable"
     ]
    }
   ],
   "source": [
    "fig = plot.plot(data, target='semantic', how='true')\n",
    "fig"
   ]
  },
  {
   "cell_type": "code",
   "execution_count": 12,
   "id": "5039ebf4-8a6b-4c1d-b45a-1cbcd6cf5453",
   "metadata": {
    "scrolled": true
   },
   "outputs": [
    {
     "data": {
      "application/vnd.jupyter.widget-view+json": {
       "model_id": "86322a41f15e49f4aa048d5cf75c6582",
       "version_major": 2,
       "version_minor": 0
      },
      "text/plain": [
       "FigureWidget({\n",
       "    'data': [{'customdata': array([['muon', '1', 30.960250854492188, -278.4313049316406],\n",
       "                                   ['muon', '1', 31.439250946044922, -277.3503723144531],\n",
       "                                   ['muon', '1', 31.918249130249023, -275.9581604003906],\n",
       "                                   ...,\n",
       "                                   ['muon', '1', -11.624770164489746, -278.3617858886719],\n",
       "                                   ['muon', '1', -10.691370010375977, -279.03497314453125],\n",
       "                                   ['muon', '1', -10.22467041015625, -279.1280822753906]], dtype=object),\n",
       "              'hovertemplate': ('instance truth=%{customdata[1]' ... 'tomdata[3]:.1f}<extra></extra>'),\n",
       "              'legendgroup': '1, muon',\n",
       "              'marker': {'color': '#FF97FF', 'size': 1, 'symbol': 'circle'},\n",
       "              'mode': 'markers',\n",
       "              'name': '1, muon',\n",
       "              'scene': 'scene',\n",
       "              'showlegend': True,\n",
       "              'type': 'scatter3d',\n",
       "              'uid': 'b5ccf4d1-b9ed-4182-9e87-6f21e2cc3513',\n",
       "              'x': {'bdata': ('qSAHwir5AsI3lvrBqEAGwsj88cGTQe' ... 'sAwrNFAcK8ewPCxpcEwu1mB8IvzAfC'),\n",
       "                    'dtype': 'f4'},\n",
       "              'y': {'bdata': ('K291QjOUgEJW/IlC1At9QoPkkELsCZ' ... '+FQoCyg0JIU4BC6TV9QkOOdEKPnnNC'),\n",
       "                    'dtype': 'f4'},\n",
       "              'z': {'bdata': ('n4/3QVoO+0ECwP5BoET/QdsxAUJkOA' ... 'D8QdJU+0H48vlBzgv6QT0690GKVvdB'),\n",
       "                    'dtype': 'f4'}},\n",
       "             {'customdata': array([['muon', '0', 55.86825180053711, -218.1864013671875],\n",
       "                                   ['muon', '0', 56.347251892089844, -216.69895935058594],\n",
       "                                   ['muon', '0', 56.82624816894531, -215.33665466308594],\n",
       "                                   ...,\n",
       "                                   ['muon', '0', 58.249813079833984, 205.87367248535156],\n",
       "                                   ['muon', '0', 57.31641387939453, 206.5940399169922],\n",
       "                                   ['muon', '0', 56.84971237182617, 206.8097686767578]], dtype=object),\n",
       "              'hovertemplate': ('instance truth=%{customdata[1]' ... 'tomdata[3]:.1f}<extra></extra>'),\n",
       "              'legendgroup': '0, muon',\n",
       "              'marker': {'color': '#FECB52', 'size': 1, 'symbol': 'circle'},\n",
       "              'mode': 'markers',\n",
       "              'name': '0, muon',\n",
       "              'scene': 'scene',\n",
       "              'showlegend': True,\n",
       "              'type': 'scatter3d',\n",
       "              'uid': '097f095c-459f-4c89-8123-de2f8939676d',\n",
       "              'x': {'bdata': ('DTkBwkW89sGOguvBND7dwfkiz8Hfzd' ... 'pB3b6RQXLzlEEuwJpBka2gQVbNokE='),\n",
       "                    'dtype': 'f4'},\n",
       "              'y': {'bdata': ('SV64QkS7s0K3dK9CdAWqQn+ApEKRWa' ... '1BpiveQD3twECAA4pABhwdQHaW4j8='),\n",
       "                    'dtype': 'f4'},\n",
       "              'z': {'bdata': ('mS9fQukPYULf9GJCPQ5lQlopZ0LYbm' ... 'hCw8+IQmvwiEL9NolCHXWJQk6FiUI='),\n",
       "                    'dtype': 'f4'}},\n",
       "             {'customdata': array([['background', '-1', 89.74462890625, -205.87442016601562],\n",
       "                                   ['background', '-1', 68.5172119140625, 194.9444122314453]], dtype=object),\n",
       "              'hovertemplate': ('instance truth=%{customdata[1]' ... 'tomdata[3]:.1f}<extra></extra>'),\n",
       "              'legendgroup': '-1, background',\n",
       "              'marker': {'color': '#636efa', 'size': 1, 'symbol': 'diamond'},\n",
       "              'mode': 'markers',\n",
       "              'name': '-1, background',\n",
       "              'scene': 'scene',\n",
       "              'showlegend': True,\n",
       "              'type': 'scatter3d',\n",
       "              'uid': '6ba0a2ef-f10b-45b0-a835-e441c10d470e',\n",
       "              'x': {'bdata': 'AADAfwAAwH8=', 'dtype': 'f4'},\n",
       "              'y': {'bdata': 'AADAfwAAwH8=', 'dtype': 'f4'},\n",
       "              'z': {'bdata': 'AADAfwAAwH8=', 'dtype': 'f4'}}],\n",
       "    'layout': {'legend': {'orientation': 'h',\n",
       "                          'title': {'text': 'instance truth, semantic truth'},\n",
       "                          'tracegroupgap': 0,\n",
       "                          'x': 1,\n",
       "                          'xanchor': 'right',\n",
       "                          'y': 1.05,\n",
       "                          'yanchor': 'bottom'},\n",
       "               'margin': {'b': 20, 'l': 20, 'r': 20, 't': 20},\n",
       "               'scene': {'domain': {'x': [0.0, 1.0], 'y': [0.0, 1.0]},\n",
       "                         'xaxis': {'title': {'text': 'y_position_x'}},\n",
       "                         'yaxis': {'title': {'text': 'y_position_y'}},\n",
       "                         'zaxis': {'title': {'text': 'y_position_z'}}},\n",
       "               'template': '...',\n",
       "               'title': {'automargin': True, 'text': 'True instance labels'}}\n",
       "})"
      ]
     },
     "execution_count": 12,
     "metadata": {},
     "output_type": "execute_result"
    }
   ],
   "source": [
    "#fig = plot.plot(data, target='instance', how='true', xyz='true')\n",
    "##### 3D views\n",
    "fig = plot.plot(data, target='instance', how='true',  filter='show',xyz='true')\n",
    "fig"
   ]
  },
  {
   "cell_type": "code",
   "execution_count": 13,
   "id": "34b9aad2-1b76-4dd7-ae80-933149367a31",
   "metadata": {},
   "outputs": [
    {
     "name": "stdout",
     "output_type": "stream",
     "text": [
      "_____________________________________________\n",
      "STOPPING MUON filter\n",
      "❌ ***** Background ***** ❌\n",
      "primary -13\n",
      "_____________________________________________\n",
      "_____________________________________________\n",
      "STOPPING MUON filter\n",
      "✅ ***** Signal ***** ✅\n",
      "primary -13\n",
      "primary.end_position_x =  16.128517150878906\n",
      "primary.end_position_y =  10.40115737915039\n",
      "primary.end_position_z =  78.85472106933594\n",
      "_____________________________________________\n",
      "_____________________________________________\n",
      "STOPPING MUON filter\n",
      "❌ ***** Background ***** ❌\n",
      "primary -13\n",
      "_____________________________________________\n",
      "STOPPING MUON filter\n",
      "✅ ***** Signal ***** ✅\n",
      "primary -13\n",
      "primary.end_position_x =  13.777453422546387\n",
      "primary.end_position_y =  34.484169006347656\n",
      "primary.end_position_z =  83.3642807006836\n",
      "_____________________________________________\n",
      "STOPPING MUON filter\n",
      "✅ ***** Signal ***** ✅\n",
      "primary 13\n",
      "primary.end_position_x =  15.488927841186523\n",
      "primary.end_position_y =  0.9221203327178955\n",
      "primary.end_position_z =  33.39085006713867\n",
      "_____________________________________________\n",
      "_____________________________________________\n",
      "STOPPING MUON filter\n",
      "❌ ***** Background ***** ❌\n",
      "primary -13\n",
      "_____________________________________________\n",
      "STOPPING MUON filter\n",
      "✅ ***** Signal ***** ✅\n",
      "primary -13\n",
      "primary.end_position_x =  5.619285583496094\n",
      "primary.end_position_y =  2.0434062480926514\n",
      "primary.end_position_z =  61.80427932739258\n",
      "_____________________________________________\n",
      "_____________________________________________\n",
      "_____________________________________________\n",
      "STOPPING MUON filter\n",
      "❌ ***** Background ***** ❌\n",
      "primary 13\n",
      "_____________________________________________\n",
      "STOPPING MUON filter\n",
      "✅ ***** Signal ***** ✅\n",
      "primary 13\n",
      "primary.end_position_x =  22.325923919677734\n",
      "primary.end_position_y =  33.58622741699219\n",
      "primary.end_position_z =  101.79525756835938\n",
      "_____________________________________________\n",
      "_____________________________________________\n",
      "_____________________________________________\n",
      "_____________________________________________\n",
      "STOPPING MUON filter\n",
      "❌ ***** Background ***** ❌\n",
      "primary -13\n",
      "_____________________________________________\n",
      "STOPPING MUON filter\n",
      "❌ ***** Background ***** ❌\n",
      "primary -13\n",
      "_____________________________________________\n",
      "STOPPING MUON filter\n",
      "✅ ***** Signal ***** ✅\n",
      "primary 13\n",
      "primary.end_position_x =  23.776981353759766\n",
      "primary.end_position_y =  10.482329368591309\n",
      "primary.end_position_z =  62.387943267822266\n",
      "_____________________________________________\n",
      "STOPPING MUON filter\n",
      "✅ ***** Signal ***** ✅\n",
      "primary 13\n",
      "primary.end_position_x =  14.332277297973633\n",
      "primary.end_position_y =  25.070140838623047\n",
      "primary.end_position_z =  107.15494537353516\n",
      "_____________________________________________\n",
      "_____________________________________________\n",
      "STOPPING MUON filter\n",
      "✅ ***** Signal ***** ✅\n",
      "primary 13\n",
      "primary.end_position_x =  8.250996589660645\n",
      "primary.end_position_y =  19.457332611083984\n",
      "primary.end_position_z =  40.21510696411133\n",
      "_____________________________________________\n",
      "STOPPING MUON filter\n",
      "❌ ***** Background ***** ❌\n",
      "primary 13\n",
      "_____________________________________________\n",
      "STOPPING MUON filter\n",
      "❌ ***** Background ***** ❌\n",
      "primary 2212\n",
      "_____________________________________________\n",
      "STOPPING MUON filter\n",
      "❌ ***** Background ***** ❌\n",
      "primary -13\n",
      "_____________________________________________\n",
      "STOPPING MUON filter\n",
      "❌ ***** Background ***** ❌\n",
      "primary 13\n",
      "_____________________________________________\n",
      "STOPPING MUON filter\n",
      "✅ ***** Signal ***** ✅\n",
      "primary 13\n",
      "primary.end_position_x =  8.177027702331543\n",
      "primary.end_position_y =  6.434323310852051\n",
      "primary.end_position_z =  96.1280288696289\n",
      "_____________________________________________\n",
      "STOPPING MUON filter\n",
      "❌ ***** Background ***** ❌\n",
      "primary 13\n",
      "_____________________________________________\n",
      "STOPPING MUON filter\n",
      "❌ ***** Background ***** ❌\n",
      "primary 13\n",
      "_____________________________________________\n",
      "STOPPING MUON filter\n",
      "❌ ***** Background ***** ❌\n",
      "primary -13\n",
      "_____________________________________________\n",
      "STOPPING MUON filter\n",
      "❌ ***** Background ***** ❌\n",
      "primary -13\n",
      "_____________________________________________\n",
      "_____________________________________________\n",
      "_____________________________________________\n",
      "_____________________________________________\n",
      "STOPPING MUON filter\n",
      "✅ ***** Signal ***** ✅\n",
      "primary -13\n",
      "primary.end_position_x =  9.7787446975708\n",
      "primary.end_position_y =  40.07244110107422\n",
      "primary.end_position_z =  12.60909652709961\n",
      "_____________________________________________\n",
      "STOPPING MUON filter\n",
      "❌ ***** Background ***** ❌\n",
      "primary 11\n",
      "_____________________________________________\n",
      "_____________________________________________\n",
      "_____________________________________________\n",
      "_____________________________________________\n",
      "STOPPING MUON filter\n",
      "❌ ***** Background ***** ❌\n",
      "primary -13\n",
      "_____________________________________________\n",
      "_____________________________________________\n",
      "STOPPING MUON filter\n",
      "✅ ***** Signal ***** ✅\n",
      "primary -13\n",
      "primary.end_position_x =  -0.4347500503063202\n",
      "primary.end_position_y =  67.46015930175781\n",
      "primary.end_position_z =  50.512454986572266\n",
      "_____________________________________________\n",
      "_____________________________________________\n",
      "STOPPING MUON filter\n",
      "✅ ***** Signal ***** ✅\n",
      "primary 13\n",
      "primary.end_position_x =  22.72146987915039\n",
      "primary.end_position_y =  16.452312469482422\n",
      "primary.end_position_z =  41.24708938598633\n",
      "_____________________________________________\n",
      "STOPPING MUON filter\n",
      "❌ ***** Background ***** ❌\n",
      "primary 13\n",
      "_____________________________________________\n",
      "_____________________________________________\n",
      "_____________________________________________\n",
      "_____________________________________________\n"
     ]
    },
    {
     "ename": "TypeError",
     "evalue": "'int' object is not subscriptable",
     "output_type": "error",
     "traceback": [
      "\u001b[0;31m---------------------------------------------------------------------------\u001b[0m",
      "\u001b[0;31mTypeError\u001b[0m                                 Traceback (most recent call last)",
      "Cell \u001b[0;32mIn[13], line 9\u001b[0m\n\u001b[1;32m      7\u001b[0m      \u001b[38;5;66;03m#print('event number =', i)\u001b[39;00m\n\u001b[1;32m      8\u001b[0m      \u001b[38;5;28mprint\u001b[39m(\u001b[38;5;124m\"\u001b[39m\u001b[38;5;124m_____________________________________________\u001b[39m\u001b[38;5;124m\"\u001b[39m)\n\u001b[0;32m----> 9\u001b[0m name, data \u001b[38;5;241m=\u001b[39m \u001b[43mprocessor\u001b[49m\u001b[43m(\u001b[49m\u001b[38;5;241;43m1\u001b[39;49m\u001b[43m)\u001b[49m\n",
      "File \u001b[0;32m/exp/dune/data/users/hrazafin/iceberg/nugraph/pynuml/pynuml/process/hitgraph.py:73\u001b[0m, in \u001b[0;36mHitGraphProducer.__call__\u001b[0;34m(self, evt)\u001b[0m\n\u001b[1;32m     69\u001b[0m \u001b[38;5;28;01mdef\u001b[39;00m\u001b[38;5;250m \u001b[39m\u001b[38;5;21m__call__\u001b[39m(\u001b[38;5;28mself\u001b[39m, evt: \u001b[38;5;124m'\u001b[39m\u001b[38;5;124mpynuml.io.Event\u001b[39m\u001b[38;5;124m'\u001b[39m) \u001b[38;5;241m-\u001b[39m\u001b[38;5;241m>\u001b[39m \u001b[38;5;28mtuple\u001b[39m[\u001b[38;5;28mstr\u001b[39m, Any]:\n\u001b[1;32m     71\u001b[0m     \u001b[38;5;28;01mif\u001b[39;00m \u001b[38;5;28mself\u001b[39m\u001b[38;5;241m.\u001b[39mevent_labeller \u001b[38;5;129;01mor\u001b[39;00m \u001b[38;5;28mself\u001b[39m\u001b[38;5;241m.\u001b[39mlabel_vertex:\n\u001b[1;32m     72\u001b[0m         \u001b[38;5;66;03m#event = evt['event_table'].squeeze()\u001b[39;00m\n\u001b[0;32m---> 73\u001b[0m         event \u001b[38;5;241m=\u001b[39m \u001b[43mevt\u001b[49m\u001b[43m[\u001b[49m\u001b[38;5;124;43m'\u001b[39;49m\u001b[38;5;124;43mparticle_table\u001b[39;49m\u001b[38;5;124;43m'\u001b[39;49m\u001b[43m]\u001b[49m\u001b[38;5;241m.\u001b[39msqueeze()\n\u001b[1;32m     75\u001b[0m     \u001b[38;5;66;03m# support different generations of event HDF5 format\u001b[39;00m\n\u001b[1;32m     76\u001b[0m     hits \u001b[38;5;241m=\u001b[39m evt[\u001b[38;5;124m'\u001b[39m\u001b[38;5;124mhit_table\u001b[39m\u001b[38;5;124m'\u001b[39m]\n",
      "\u001b[0;31mTypeError\u001b[0m: 'int' object is not subscriptable"
     ]
    }
   ],
   "source": [
    "file.read_data(1, 80)\n",
    "nevts = iter(file.build_evt())\n",
    "i=0\n",
    "while i < 50:\n",
    "     name, data = processor(next(nevts))\n",
    "     i +=1\n",
    "     #print('event number =', i)\n",
    "     print(\"_____________________________________________\")\n",
    "name, data = processor(1)"
   ]
  },
  {
   "cell_type": "code",
   "execution_count": null,
   "id": "4cb48544-dc45-4aef-8bb7-0457302ab699",
   "metadata": {},
   "outputs": [],
   "source": []
  }
 ],
 "metadata": {
  "kernelspec": {
   "display_name": "numl0725",
   "language": "python",
   "name": "numl0725"
  },
  "language_info": {
   "codemirror_mode": {
    "name": "ipython",
    "version": 3
   },
   "file_extension": ".py",
   "mimetype": "text/x-python",
   "name": "python",
   "nbconvert_exporter": "python",
   "pygments_lexer": "ipython3",
   "version": "3.10.18"
  }
 },
 "nbformat": 4,
 "nbformat_minor": 5
}
