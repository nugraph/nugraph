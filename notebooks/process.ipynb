{
 "cells": [
  {
   "cell_type": "markdown",
   "id": "032d4d70-fc8c-4dc7-8e74-6ca925c528a6",
   "metadata": {},
   "source": [
    "### Set autoreloading\n",
    "This extension will automatically update with any changes to packages in real time"
   ]
  },
  {
   "cell_type": "code",
   "execution_count": null,
   "id": "66cb4d62-a186-4a7c-a73d-d000ed2282d8",
   "metadata": {},
   "outputs": [],
   "source": [
    "%load_ext autoreload\n",
    "%autoreload 2"
   ]
  },
  {
   "cell_type": "markdown",
   "id": "92ba31c1-82de-4a5a-85f2-5a42681fe130",
   "metadata": {},
   "source": [
    "### Import packages\n",
    "We'll need the `pynuml` and `nugraph` packages"
   ]
  },
  {
   "cell_type": "code",
   "execution_count": null,
   "id": "1fde7189-f0de-46bc-b49c-c6a00c65938a",
   "metadata": {},
   "outputs": [],
   "source": [
    "import pynuml\n",
    "import nugraph as ng"
   ]
  },
  {
   "cell_type": "markdown",
   "id": "c347b111-3671-4d5c-ad32-1e458b56875a",
   "metadata": {},
   "source": [
    "### Open HDF5 event file\n",
    "\n",
    "This file contains the low-level tables we need to process into graph objects"
   ]
  },
  {
   "cell_type": "code",
   "execution_count": null,
   "id": "484ed079-07dd-41e2-a869-963363bcecaa",
   "metadata": {},
   "outputs": [],
   "source": [
    "file = pynuml.io.File(\"/raid/uboone/CHEP2023/CHEP2023.evt.h5\")"
   ]
  },
  {
   "cell_type": "markdown",
   "id": "5a7725e2-075d-4456-9b29-4770973ed464",
   "metadata": {},
   "source": [
    "### Create hit graph producer\n",
    "\n",
    "Create a class that can read input information and use it to generate graphs"
   ]
  },
  {
   "cell_type": "code",
   "execution_count": null,
   "id": "ea934f2d-3078-42d6-ad01-fcfba0b9e5cd",
   "metadata": {},
   "outputs": [],
   "source": [
    "semantic_labeller = pynuml.labels.StandardLabels()\n",
    "event_labeller = pynuml.labels.FlavorLabels()\n",
    "processor = pynuml.process.HitGraphProducer(\n",
    "        file=file,\n",
    "        semantic_labeller=semantic_labeller,\n",
    "        event_labeller=event_labeller,\n",
    "        label_vertex=True,\n",
    "        label_position=False)"
   ]
  },
  {
   "cell_type": "markdown",
   "id": "013cab3f-52cd-4928-8d09-20244cffdc2e",
   "metadata": {},
   "source": [
    "## Configure plotting utility\n",
    "Instantiate the **pynuml** utility for plotting graph objects, which will allow us to visualise the graphs we create"
   ]
  },
  {
   "cell_type": "code",
   "execution_count": null,
   "id": "6922ae60-58dc-4dd7-af76-4959f8ff7e4e",
   "metadata": {},
   "outputs": [],
   "source": [
    "plot = pynuml.plot.GraphPlot(\n",
    "    planes=('u', 'v', 'y'),\n",
    "    classes=semantic_labeller.labels[:-1])"
   ]
  },
  {
   "cell_type": "markdown",
   "id": "794baf81-eaea-4882-8ea1-e16bdc749dc1",
   "metadata": {},
   "source": [
    "### Load a buffer of input graphs\n",
    "\n",
    "For interactive testing, we can use `read_data` to load the first 100 events in the event file using the following syntax, which will return a list of events that we can use to initialise an iterator"
   ]
  },
  {
   "cell_type": "code",
   "execution_count": null,
   "id": "85640f53-f3f6-4d37-acb9-07e9e661788d",
   "metadata": {},
   "outputs": [],
   "source": [
    "file.read_data(0, 100)\n",
    "evts = iter(file.build_evt())"
   ]
  },
  {
   "cell_type": "markdown",
   "id": "ede7692f-48c1-40e3-ba32-6fa2f446849e",
   "metadata": {},
   "source": [
    "### Retrieve the next event\n",
    "\n",
    "This block retrieves an event from the buffer. Since we defined `evts` as an iterator over our 100 events, the following block can be executed multiple times, and each time it's executed, it will step to the next event in the buffer. After fetching an event, we pass it into the processor to create a graph. Not all events produce good graphs, so if the next event does not return a valid graph, the code will continue to fetch events until it finds the next event that produces a valid graph."
   ]
  },
  {
   "cell_type": "code",
   "execution_count": null,
   "id": "72d27eba-1f79-4d9a-8d98-f9d2799e3ca6",
   "metadata": {},
   "outputs": [],
   "source": [
    "name, data = processor(next(evts))\n",
    "skip = 0\n",
    "while data is None:\n",
    "    name, data = processor(next(evts))\n",
    "    skip += 1\n",
    "if skip > 0:\n",
    "    print(f'skipped {skip} events that did not produce valid graphs.')"
   ]
  },
  {
   "cell_type": "markdown",
   "id": "058b117a-7026-4849-b51f-a92ead4e2f9c",
   "metadata": {},
   "source": [
    "### Visualise graph\n",
    "\n",
    "We can use the plotting utility to take a closer look at the graph we just produced."
   ]
  },
  {
   "cell_type": "code",
   "execution_count": null,
   "id": "cee00d21-f725-4d78-b397-5c9f750d307d",
   "metadata": {},
   "outputs": [],
   "source": [
    "fig = plot.plot(data, target='instance', how='true', filter='show')\n",
    "fig"
   ]
  },
  {
   "cell_type": "code",
   "execution_count": null,
   "id": "7ca298fb-1264-402e-9ac8-647e511d7403",
   "metadata": {},
   "outputs": [],
   "source": []
  }
 ],
 "metadata": {
  "kernelspec": {
   "display_name": "Python 3 (ipykernel)",
   "language": "python",
   "name": "python3"
  },
  "language_info": {
   "codemirror_mode": {
    "name": "ipython",
    "version": 3
   },
   "file_extension": ".py",
   "mimetype": "text/x-python",
   "name": "python",
   "nbconvert_exporter": "python",
   "pygments_lexer": "ipython3",
   "version": "3.10.10"
  }
 },
 "nbformat": 4,
 "nbformat_minor": 5
}
