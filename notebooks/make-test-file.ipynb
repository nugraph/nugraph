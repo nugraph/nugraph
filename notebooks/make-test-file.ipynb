{
 "cells": [
  {
   "cell_type": "markdown",
   "id": "749149dd-b4f2-4fb8-9897-9cadd42128d8",
   "metadata": {},
   "source": [
    "### Set autoreloading\n",
    "This extension will automatically update with any changes to packages in real time"
   ]
  },
  {
   "cell_type": "code",
   "execution_count": null,
   "id": "d1020db2-2ee5-49cb-99ac-fb28a348e6e8",
   "metadata": {},
   "outputs": [],
   "source": [
    "%load_ext autoreload\n",
    "%autoreload 2"
   ]
  },
  {
   "cell_type": "markdown",
   "id": "07e31949-fb8c-437d-a7e1-775679d0730b",
   "metadata": {},
   "source": [
    "### Import packages"
   ]
  },
  {
   "cell_type": "code",
   "execution_count": null,
   "id": "d6e758be",
   "metadata": {},
   "outputs": [],
   "source": [
    "import os\n",
    "import tqdm\n",
    "import numpy as np\n",
    "import h5py\n",
    "import pynuml\n",
    "import nugraph as ng"
   ]
  },
  {
   "cell_type": "markdown",
   "id": "b5dc3df9",
   "metadata": {},
   "source": [
    "### Configure arguments\n",
    "Name of input file and number of events to write to summary file"
   ]
  },
  {
   "cell_type": "code",
   "execution_count": null,
   "id": "2c605ea3",
   "metadata": {},
   "outputs": [],
   "source": [
    "FILE = os.path.expandvars(\"$NUGRAPH_DATA/uboone-opendata/uboone-opendata-e5fac1ac.evt.h5\")\n",
    "NUM_EVTS = 20"
   ]
  },
  {
   "cell_type": "markdown",
   "id": "50efba67",
   "metadata": {},
   "source": [
    "### Get list of indices\n",
    "Loop over events in file and construct a list of events that will produce valid graphs"
   ]
  },
  {
   "cell_type": "code",
   "execution_count": null,
   "id": "f1f5a7f9",
   "metadata": {},
   "outputs": [],
   "source": [
    "ids = {}\n",
    "f = pynuml.io.File(FILE)\n",
    "processor = pynuml.process.HitGraphProducer(file=f)\n",
    "for i, evt in enumerate(f):\n",
    "    if not evt:\n",
    "        continue\n",
    "    name, data = processor(evt)\n",
    "    if data:\n",
    "        ids[i] = evt.event_id\n",
    "    if len(ids) == NUM_EVTS:\n",
    "        break\n",
    "del f"
   ]
  },
  {
   "cell_type": "markdown",
   "id": "652a04c7",
   "metadata": {},
   "source": [
    "### Extract raw arrays\n",
    "Loop over datasets in input HDF5 file, and extract arrays for the events selected above"
   ]
  },
  {
   "cell_type": "code",
   "execution_count": null,
   "id": "7baea8d5",
   "metadata": {},
   "outputs": [],
   "source": [
    "with h5py.File(FILE) as f:\n",
    "\n",
    "    # initialize empty array dictionary\n",
    "    keys = []\n",
    "    arrays = {}\n",
    "    for group in f.keys():\n",
    "        for key in f[group].keys():\n",
    "            if \".seq\" in key:\n",
    "                continue\n",
    "            keys.append(f\"{group}/{key}\")\n",
    "            arrays[keys[-1]] = []\n",
    "\n",
    "    # read arrays from file\n",
    "    for i, event_id in tqdm.tqdm(ids.items()):\n",
    "        mask = {g: ((f[g][\"event_id.seq\"][()] == i)[:, 0]).nonzero() for g in f.keys()}\n",
    "        for key in keys:\n",
    "            g, k = key.split(\"/\")\n",
    "            arrays[key].append(f[key][mask[g]])"
   ]
  },
  {
   "cell_type": "markdown",
   "id": "eb2e39c1",
   "metadata": {},
   "source": [
    "### Write to summary file\n",
    "Combine arrays across summary events, and write them to a new summary file"
   ]
  },
  {
   "cell_type": "code",
   "execution_count": null,
   "id": "29be0359",
   "metadata": {},
   "outputs": [],
   "source": [
    "with h5py.File(FILE[:-7]+\".test.h5\", \"w\") as f:\n",
    "    for key in keys:\n",
    "        f[key] = np.concatenate(arrays[key])"
   ]
  },
  {
   "cell_type": "code",
   "execution_count": null,
   "id": "1589ea4a",
   "metadata": {},
   "outputs": [],
   "source": []
  }
 ],
 "metadata": {
  "kernelspec": {
   "display_name": "Python 3 (ipykernel)",
   "language": "python",
   "name": "python3"
  }
 },
 "nbformat": 4,
 "nbformat_minor": 5
}
